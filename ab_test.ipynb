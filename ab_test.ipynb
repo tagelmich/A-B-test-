{
 "cells": [
  {
   "cell_type": "markdown",
   "metadata": {},
   "source": [
    "# Оценка результатов A/B-теста"
   ]
  },
  {
   "cell_type": "code",
   "execution_count": 51,
   "metadata": {},
   "outputs": [],
   "source": [
    "import pandas as pd\n",
    "import matplotlib.pyplot as plt\n",
    "import seaborn as sns\n",
    "import numpy as np \n",
    "import scipy.stats as st\n",
    "import requests"
   ]
  },
  {
   "cell_type": "markdown",
   "metadata": {},
   "source": [
    "### Импортируем данные"
   ]
  },
  {
   "cell_type": "code",
   "execution_count": 59,
   "metadata": {},
   "outputs": [],
   "source": [
    "studs_link = \"https://disk.yandex.ru/d/zmJiYCj5LkV22g\"\n",
    "checks_link = \"https://disk.yandex.ru/d/XX5KdKsNVfmcsw\"\n",
    "groups_link = \"https://disk.yandex.ru/d/gQcz5hIGU-qCuQ\"\n",
    "group_add_link = \"https://disk.yandex.ru/d/8ExWqAap39HGRQ\"\n",
    "\n",
    "\n",
    "\n",
    "#создаем универсальную функцию для чтения csv файлов\n",
    "\n",
    "def load_csv_by_public_link(public_link, sep=';'):\n",
    "\n",
    "    response = requests.get(\n",
    "        \"https://cloud-api.yandex.net/v1/disk/public/resources/download\",\n",
    "        params={\"public_key\": public_link}\n",
    "    )\n",
    "    if response.status_code != 200:\n",
    "        raise Exception(f\"Ошибка: {response.status_code}, {response.text}\")\n",
    "    \n",
    "    download_url = response.json()[\"href\"]\n",
    "    return pd.read_csv(download_url, sep=sep)\n",
    "\n",
    "\n",
    "studs = load_csv_by_public_link(studs_link)\n",
    "checks = load_csv_by_public_link(checks_link)\n",
    "groups = load_csv_by_public_link(groups_link)\n",
    "group_add = load_csv_by_public_link(group_add_link, sep=',')\n",
    "\n"
   ]
  },
  {
   "cell_type": "code",
   "execution_count": 60,
   "metadata": {},
   "outputs": [
    {
     "data": {
      "text/html": [
       "<div>\n",
       "<style scoped>\n",
       "    .dataframe tbody tr th:only-of-type {\n",
       "        vertical-align: middle;\n",
       "    }\n",
       "\n",
       "    .dataframe tbody tr th {\n",
       "        vertical-align: top;\n",
       "    }\n",
       "\n",
       "    .dataframe thead th {\n",
       "        text-align: right;\n",
       "    }\n",
       "</style>\n",
       "<table border=\"1\" class=\"dataframe\">\n",
       "  <thead>\n",
       "    <tr style=\"text-align: right;\">\n",
       "      <th></th>\n",
       "      <th>student_id</th>\n",
       "    </tr>\n",
       "  </thead>\n",
       "  <tbody>\n",
       "    <tr>\n",
       "      <th>0</th>\n",
       "      <td>581585</td>\n",
       "    </tr>\n",
       "    <tr>\n",
       "      <th>1</th>\n",
       "      <td>5723133</td>\n",
       "    </tr>\n",
       "    <tr>\n",
       "      <th>2</th>\n",
       "      <td>3276743</td>\n",
       "    </tr>\n",
       "    <tr>\n",
       "      <th>3</th>\n",
       "      <td>4238589</td>\n",
       "    </tr>\n",
       "    <tr>\n",
       "      <th>4</th>\n",
       "      <td>4475369</td>\n",
       "    </tr>\n",
       "  </tbody>\n",
       "</table>\n",
       "</div>"
      ],
      "text/plain": [
       "   student_id\n",
       "0      581585\n",
       "1     5723133\n",
       "2     3276743\n",
       "3     4238589\n",
       "4     4475369"
      ]
     },
     "execution_count": 60,
     "metadata": {},
     "output_type": "execute_result"
    }
   ],
   "source": [
    "#файл с информацией о пользователях, которые зашли на платформу в дни проведения эксперимента\n",
    "\n",
    "\n",
    "studs.head()"
   ]
  },
  {
   "cell_type": "code",
   "execution_count": 61,
   "metadata": {},
   "outputs": [
    {
     "data": {
      "text/html": [
       "<div>\n",
       "<style scoped>\n",
       "    .dataframe tbody tr th:only-of-type {\n",
       "        vertical-align: middle;\n",
       "    }\n",
       "\n",
       "    .dataframe tbody tr th {\n",
       "        vertical-align: top;\n",
       "    }\n",
       "\n",
       "    .dataframe thead th {\n",
       "        text-align: right;\n",
       "    }\n",
       "</style>\n",
       "<table border=\"1\" class=\"dataframe\">\n",
       "  <thead>\n",
       "    <tr style=\"text-align: right;\">\n",
       "      <th></th>\n",
       "      <th>student_id</th>\n",
       "      <th>rev</th>\n",
       "    </tr>\n",
       "  </thead>\n",
       "  <tbody>\n",
       "    <tr>\n",
       "      <th>0</th>\n",
       "      <td>1627</td>\n",
       "      <td>990.0</td>\n",
       "    </tr>\n",
       "    <tr>\n",
       "      <th>1</th>\n",
       "      <td>3185</td>\n",
       "      <td>690.0</td>\n",
       "    </tr>\n",
       "    <tr>\n",
       "      <th>2</th>\n",
       "      <td>25973</td>\n",
       "      <td>690.0</td>\n",
       "    </tr>\n",
       "    <tr>\n",
       "      <th>3</th>\n",
       "      <td>26280</td>\n",
       "      <td>690.0</td>\n",
       "    </tr>\n",
       "    <tr>\n",
       "      <th>4</th>\n",
       "      <td>100300</td>\n",
       "      <td>990.0</td>\n",
       "    </tr>\n",
       "  </tbody>\n",
       "</table>\n",
       "</div>"
      ],
      "text/plain": [
       "   student_id    rev\n",
       "0        1627  990.0\n",
       "1        3185  690.0\n",
       "2       25973  690.0\n",
       "3       26280  690.0\n",
       "4      100300  990.0"
      ]
     },
     "execution_count": 61,
     "metadata": {},
     "output_type": "execute_result"
    }
   ],
   "source": [
    "#файл с информацией об оплатах пользователей в дни проведения эксперимента. \n",
    "\n",
    "checks.head()"
   ]
  },
  {
   "cell_type": "code",
   "execution_count": 62,
   "metadata": {},
   "outputs": [
    {
     "data": {
      "text/plain": [
       "149"
      ]
     },
     "execution_count": 62,
     "metadata": {},
     "output_type": "execute_result"
    }
   ],
   "source": [
    "# проверяем, есть ли в списке оплативших пользователи, которые не были активны в дни эксперимента\n",
    "\n",
    "checks.query('student_id not in @studs.student_id')['student_id'].count()"
   ]
  },
  {
   "cell_type": "code",
   "execution_count": 63,
   "metadata": {},
   "outputs": [
    {
     "data": {
      "text/html": [
       "<div>\n",
       "<style scoped>\n",
       "    .dataframe tbody tr th:only-of-type {\n",
       "        vertical-align: middle;\n",
       "    }\n",
       "\n",
       "    .dataframe tbody tr th {\n",
       "        vertical-align: top;\n",
       "    }\n",
       "\n",
       "    .dataframe thead th {\n",
       "        text-align: right;\n",
       "    }\n",
       "</style>\n",
       "<table border=\"1\" class=\"dataframe\">\n",
       "  <thead>\n",
       "    <tr style=\"text-align: right;\">\n",
       "      <th></th>\n",
       "      <th>id</th>\n",
       "      <th>grp</th>\n",
       "    </tr>\n",
       "  </thead>\n",
       "  <tbody>\n",
       "    <tr>\n",
       "      <th>0</th>\n",
       "      <td>1489</td>\n",
       "      <td>B</td>\n",
       "    </tr>\n",
       "    <tr>\n",
       "      <th>1</th>\n",
       "      <td>1627</td>\n",
       "      <td>A</td>\n",
       "    </tr>\n",
       "    <tr>\n",
       "      <th>2</th>\n",
       "      <td>1768</td>\n",
       "      <td>B</td>\n",
       "    </tr>\n",
       "    <tr>\n",
       "      <th>3</th>\n",
       "      <td>1783</td>\n",
       "      <td>B</td>\n",
       "    </tr>\n",
       "    <tr>\n",
       "      <th>4</th>\n",
       "      <td>1794</td>\n",
       "      <td>A</td>\n",
       "    </tr>\n",
       "  </tbody>\n",
       "</table>\n",
       "</div>"
      ],
      "text/plain": [
       "     id grp\n",
       "0  1489   B\n",
       "1  1627   A\n",
       "2  1768   B\n",
       "3  1783   B\n",
       "4  1794   A"
      ]
     },
     "execution_count": 63,
     "metadata": {},
     "output_type": "execute_result"
    }
   ],
   "source": [
    "# файл с информацией о принадлежности пользователя \n",
    "# к контрольной или экспериментальной группе (А – контроль, B – целевая группа) \n",
    "\n",
    "groups.head()\n"
   ]
  },
  {
   "cell_type": "code",
   "execution_count": 64,
   "metadata": {},
   "outputs": [
    {
     "data": {
      "text/html": [
       "<div>\n",
       "<style scoped>\n",
       "    .dataframe tbody tr th:only-of-type {\n",
       "        vertical-align: middle;\n",
       "    }\n",
       "\n",
       "    .dataframe tbody tr th {\n",
       "        vertical-align: top;\n",
       "    }\n",
       "\n",
       "    .dataframe thead th {\n",
       "        text-align: right;\n",
       "    }\n",
       "</style>\n",
       "<table border=\"1\" class=\"dataframe\">\n",
       "  <thead>\n",
       "    <tr style=\"text-align: right;\">\n",
       "      <th></th>\n",
       "      <th>id</th>\n",
       "      <th>grp</th>\n",
       "    </tr>\n",
       "  </thead>\n",
       "  <tbody>\n",
       "    <tr>\n",
       "      <th>0</th>\n",
       "      <td>5694584</td>\n",
       "      <td>B</td>\n",
       "    </tr>\n",
       "    <tr>\n",
       "      <th>1</th>\n",
       "      <td>5694830</td>\n",
       "      <td>B</td>\n",
       "    </tr>\n",
       "    <tr>\n",
       "      <th>2</th>\n",
       "      <td>5695057</td>\n",
       "      <td>B</td>\n",
       "    </tr>\n",
       "    <tr>\n",
       "      <th>3</th>\n",
       "      <td>5698872</td>\n",
       "      <td>B</td>\n",
       "    </tr>\n",
       "    <tr>\n",
       "      <th>4</th>\n",
       "      <td>5699067</td>\n",
       "      <td>B</td>\n",
       "    </tr>\n",
       "  </tbody>\n",
       "</table>\n",
       "</div>"
      ],
      "text/plain": [
       "        id grp\n",
       "0  5694584   B\n",
       "1  5694830   B\n",
       "2  5695057   B\n",
       "3  5698872   B\n",
       "4  5699067   B"
      ]
     },
     "execution_count": 64,
     "metadata": {},
     "output_type": "execute_result"
    }
   ],
   "source": [
    "group_add.head()"
   ]
  },
  {
   "cell_type": "code",
   "execution_count": 65,
   "metadata": {},
   "outputs": [
    {
     "data": {
      "text/html": [
       "<div>\n",
       "<style scoped>\n",
       "    .dataframe tbody tr th:only-of-type {\n",
       "        vertical-align: middle;\n",
       "    }\n",
       "\n",
       "    .dataframe tbody tr th {\n",
       "        vertical-align: top;\n",
       "    }\n",
       "\n",
       "    .dataframe thead th {\n",
       "        text-align: right;\n",
       "    }\n",
       "</style>\n",
       "<table border=\"1\" class=\"dataframe\">\n",
       "  <thead>\n",
       "    <tr style=\"text-align: right;\">\n",
       "      <th></th>\n",
       "      <th>student_id</th>\n",
       "      <th>grp</th>\n",
       "    </tr>\n",
       "  </thead>\n",
       "  <tbody>\n",
       "    <tr>\n",
       "      <th>0</th>\n",
       "      <td>1489</td>\n",
       "      <td>B</td>\n",
       "    </tr>\n",
       "    <tr>\n",
       "      <th>1</th>\n",
       "      <td>1627</td>\n",
       "      <td>A</td>\n",
       "    </tr>\n",
       "    <tr>\n",
       "      <th>2</th>\n",
       "      <td>1768</td>\n",
       "      <td>B</td>\n",
       "    </tr>\n",
       "    <tr>\n",
       "      <th>3</th>\n",
       "      <td>1783</td>\n",
       "      <td>B</td>\n",
       "    </tr>\n",
       "    <tr>\n",
       "      <th>4</th>\n",
       "      <td>1794</td>\n",
       "      <td>A</td>\n",
       "    </tr>\n",
       "  </tbody>\n",
       "</table>\n",
       "</div>"
      ],
      "text/plain": [
       "   student_id grp\n",
       "0        1489   B\n",
       "1        1627   A\n",
       "2        1768   B\n",
       "3        1783   B\n",
       "4        1794   A"
      ]
     },
     "execution_count": 65,
     "metadata": {},
     "output_type": "execute_result"
    }
   ],
   "source": [
    "#соединяем 2 датафрейма - первоначальный, и который забыли отправить изначально \n",
    "# + переименовываем столбик id в student_id\n",
    "\n",
    "groups_total=pd.concat([groups, group_add]).rename(columns={'id':'student_id'})\n",
    "\n",
    "groups_total.head()"
   ]
  },
  {
   "cell_type": "code",
   "execution_count": 66,
   "metadata": {},
   "outputs": [
    {
     "data": {
      "text/html": [
       "<div>\n",
       "<style scoped>\n",
       "    .dataframe tbody tr th:only-of-type {\n",
       "        vertical-align: middle;\n",
       "    }\n",
       "\n",
       "    .dataframe tbody tr th {\n",
       "        vertical-align: top;\n",
       "    }\n",
       "\n",
       "    .dataframe thead th {\n",
       "        text-align: right;\n",
       "    }\n",
       "</style>\n",
       "<table border=\"1\" class=\"dataframe\">\n",
       "  <thead>\n",
       "    <tr style=\"text-align: right;\">\n",
       "      <th></th>\n",
       "      <th>student_id</th>\n",
       "      <th>grp</th>\n",
       "    </tr>\n",
       "  </thead>\n",
       "  <tbody>\n",
       "    <tr>\n",
       "      <th>0</th>\n",
       "      <td>1489</td>\n",
       "      <td>1</td>\n",
       "    </tr>\n",
       "    <tr>\n",
       "      <th>49742</th>\n",
       "      <td>2711518</td>\n",
       "      <td>1</td>\n",
       "    </tr>\n",
       "    <tr>\n",
       "      <th>49722</th>\n",
       "      <td>2708589</td>\n",
       "      <td>1</td>\n",
       "    </tr>\n",
       "    <tr>\n",
       "      <th>49721</th>\n",
       "      <td>2708295</td>\n",
       "      <td>1</td>\n",
       "    </tr>\n",
       "    <tr>\n",
       "      <th>49720</th>\n",
       "      <td>2707985</td>\n",
       "      <td>1</td>\n",
       "    </tr>\n",
       "  </tbody>\n",
       "</table>\n",
       "</div>"
      ],
      "text/plain": [
       "       student_id  grp\n",
       "0            1489    1\n",
       "49742     2711518    1\n",
       "49722     2708589    1\n",
       "49721     2708295    1\n",
       "49720     2707985    1"
      ]
     },
     "execution_count": 66,
     "metadata": {},
     "output_type": "execute_result"
    }
   ],
   "source": [
    "# проверяем, нет ли пользователей, которые попали в обе группы\n",
    "\n",
    "groups_total.groupby('student_id', as_index=False).agg({'grp':'count'}).sort_values('grp', ascending=False).head(5)"
   ]
  },
  {
   "cell_type": "code",
   "execution_count": 67,
   "metadata": {},
   "outputs": [
    {
     "name": "stdout",
     "output_type": "stream",
     "text": [
      "все ок\n"
     ]
    }
   ],
   "source": [
    "# проверяем, что соединение прошло корректно\n",
    "\n",
    "if groups_total['student_id'].count()==groups['id'].count()+group_add['id'].count():\n",
    "    print(\"все ок\")\n",
    "else:\n",
    "    print(\"что-то пошло не так\")"
   ]
  },
  {
   "cell_type": "markdown",
   "metadata": {},
   "source": [
    "### Сводим результаты эксперимента\n",
    "\n",
    "Здесь для групп А и В посчитаем:\n",
    "\n",
    "- Количество пользователей\n",
    "- Количество и доля платящих клиентов\n",
    "- Количество и доля не платящих клиентов\n",
    "- Выручка на платящего пользователя\n",
    "\n",
    "По полученным данным проверим, есть ли видимая разница между группами "
   ]
  },
  {
   "cell_type": "code",
   "execution_count": 68,
   "metadata": {},
   "outputs": [],
   "source": [
    "# сводим результаты эксперимента\n",
    "\n",
    "exp_result=(\n",
    "    \n",
    "    \n",
    "    # оставляем только тех пользователей, кто заходил на платформу во время проведедения эксперимента\n",
    "    groups_total.query('student_id in @studs.student_id')\n",
    "    \n",
    "    \n",
    "    # мерджим с датафреймом, содержащим информацию об оплатах. Ставим \"left\", потому что хотим учесть пользователей\n",
    "    # которые заходили, но не платили\n",
    "    .merge(checks, on='student_id', how='left')\n",
    "    \n",
    "    \n",
    "    # группируем: A - контрольная группа, B - экспериментальная\n",
    "    .groupby('grp', as_index=False)\n",
    "    \n",
    "    \n",
    "    # в агрегации считаем: прибыль внутри группы, кол-во пользователей, \n",
    "    # не совершавших какие-либо оплаты, количество пользователей в группе в целом)\n",
    "    .agg(students_total=('student_id', 'count'),\n",
    "         rev_total=('rev', 'sum'),\n",
    "         students_not_paying=('rev', lambda x: x.isna().sum()))\n",
    "                  \n",
    "\n",
    "        ) "
   ]
  },
  {
   "cell_type": "code",
   "execution_count": 69,
   "metadata": {},
   "outputs": [],
   "source": [
    "#Рассчитываем дополнительные метрики\n",
    "\n",
    "# Доля неплатящих\n",
    "exp_result['students_not_paying_ratio']=exp_result['students_not_paying']/exp_result['students_total']*100\n",
    "\n",
    "# Кол-во платящих\n",
    "exp_result['paying_students']=round(exp_result['students_total']-exp_result['students_not_paying'], 2)\n",
    "\n",
    "# Доля платящих\n",
    "exp_result['paying_students_ratio']=round(exp_result['paying_students']/exp_result['students_total']*100, 2)\n",
    "\n",
    "# Средняя выручка с платящего\n",
    "exp_result['ARPPU']=round(exp_result['rev_total']/(exp_result['students_total']-exp_result['students_not_paying']), 2)\n"
   ]
  },
  {
   "cell_type": "code",
   "execution_count": 70,
   "metadata": {},
   "outputs": [
    {
     "data": {
      "text/html": [
       "<div>\n",
       "<style scoped>\n",
       "    .dataframe tbody tr th:only-of-type {\n",
       "        vertical-align: middle;\n",
       "    }\n",
       "\n",
       "    .dataframe tbody tr th {\n",
       "        vertical-align: top;\n",
       "    }\n",
       "\n",
       "    .dataframe thead th {\n",
       "        text-align: right;\n",
       "    }\n",
       "</style>\n",
       "<table border=\"1\" class=\"dataframe\">\n",
       "  <thead>\n",
       "    <tr style=\"text-align: right;\">\n",
       "      <th></th>\n",
       "      <th>grp</th>\n",
       "      <th>students_total</th>\n",
       "      <th>rev_total</th>\n",
       "      <th>students_not_paying</th>\n",
       "      <th>students_not_paying_ratio</th>\n",
       "      <th>paying_students</th>\n",
       "      <th>paying_students_ratio</th>\n",
       "      <th>ARPPU</th>\n",
       "    </tr>\n",
       "  </thead>\n",
       "  <tbody>\n",
       "    <tr>\n",
       "      <th>0</th>\n",
       "      <td>A</td>\n",
       "      <td>1538</td>\n",
       "      <td>72820.0000</td>\n",
       "      <td>1460.0</td>\n",
       "      <td>94.928479</td>\n",
       "      <td>78.0</td>\n",
       "      <td>5.07</td>\n",
       "      <td>933.59</td>\n",
       "    </tr>\n",
       "    <tr>\n",
       "      <th>1</th>\n",
       "      <td>B</td>\n",
       "      <td>6803</td>\n",
       "      <td>394974.0035</td>\n",
       "      <td>6489.0</td>\n",
       "      <td>95.384389</td>\n",
       "      <td>314.0</td>\n",
       "      <td>4.62</td>\n",
       "      <td>1257.88</td>\n",
       "    </tr>\n",
       "  </tbody>\n",
       "</table>\n",
       "</div>"
      ],
      "text/plain": [
       "  grp  students_total    rev_total  students_not_paying  \\\n",
       "0   A            1538   72820.0000               1460.0   \n",
       "1   B            6803  394974.0035               6489.0   \n",
       "\n",
       "   students_not_paying_ratio  paying_students  paying_students_ratio    ARPPU  \n",
       "0                  94.928479             78.0                   5.07   933.59  \n",
       "1                  95.384389            314.0                   4.62  1257.88  "
      ]
     },
     "execution_count": 70,
     "metadata": {},
     "output_type": "execute_result"
    }
   ],
   "source": [
    "exp_result"
   ]
  },
  {
   "cell_type": "markdown",
   "metadata": {},
   "source": [
    "### Проверка статзначимости различий\n",
    "\n",
    "Видим, что доля платящих пользователей в экспериментальной группе меньше, при этом выручка больше.\n",
    "\n",
    "Проверим, насколько эти различия являются статистически значимыми."
   ]
  },
  {
   "cell_type": "code",
   "execution_count": 71,
   "metadata": {},
   "outputs": [
    {
     "name": "stdout",
     "output_type": "stream",
     "text": [
      "Хи-квадрат статистика: 0.0\n",
      "P-значение: 1.0\n",
      "Новая форма оплаты не отразилась на доле платящих пользователей\n"
     ]
    }
   ],
   "source": [
    "# Проверим разницу в доле платящих с помощью Хи квадрата проверим\n",
    "\n",
    "\n",
    "stat_diff_paying_ratio=exp_result[['students_not_paying_ratio', 'paying_students_ratio']]\n",
    "stat_diff_paying_ratio\n",
    "\n",
    "chi2, p, dof, expected = st.chi2_contingency(stat_diff_paying_ratio)\n",
    "\n",
    "print(f\"Хи-квадрат статистика: {chi2}\")\n",
    "print(f\"P-значение: {p}\")\n",
    "\n",
    "alpha = 0.05\n",
    "if p < alpha:\n",
    "    print(\"Новая форма оплаты повлияла на долю платящих пользователей\")\n",
    "else:\n",
    "    print(\"Новая форма оплаты не отразилась на доле платящих пользователей\")"
   ]
  },
  {
   "cell_type": "markdown",
   "metadata": {},
   "source": [
    "#### Подготовим данные для сравнения результатов по оплатам в двух группах"
   ]
  },
  {
   "cell_type": "code",
   "execution_count": 83,
   "metadata": {},
   "outputs": [],
   "source": [
    "#формируем общий датафрейм с оплатами \n",
    "\n",
    "group_paid=groups_total.merge(checks, on='student_id', how='inner')\n",
    "\n",
    "\n",
    "#формируем отдельные датафреймы с выручкой для групп А и В (исключая неплатящих пользователей)\n",
    "\n",
    "group_a=groups_total.query('grp==\"A\"').merge(checks, on='student_id', how='inner')\n",
    "\n",
    "group_b=groups_total.query('grp==\"B\"').merge(checks, on='student_id', how='inner')"
   ]
  },
  {
   "cell_type": "markdown",
   "metadata": {},
   "source": [
    "#### Проверим распределение в обеих группах"
   ]
  },
  {
   "cell_type": "code",
   "execution_count": 84,
   "metadata": {},
   "outputs": [
    {
     "data": {
      "image/png": "[encoded data removed]",
      "text/plain": [
       "<Figure size 432x288 with 1 Axes>"
      ]
     },
     "metadata": {
      "needs_background": "light"
     },
     "output_type": "display_data"
    },
    {
     "name": "stdout",
     "output_type": "stream",
     "text": [
      "p-value = 4.580439316510776e-12, распределение НЕ является нормальным\n"
     ]
    }
   ],
   "source": [
    "#строим график распределения для контрольной группы \n",
    "sns.histplot(group_a['rev'])\n",
    "\n",
    "# Оформление графика\n",
    "plt.title(\"Распределение выручки (rev) для контрольной группы\")\n",
    "plt.xlabel(\"Выручка (rev)\")\n",
    "plt.ylabel(\"Частота\")\n",
    "plt.show()\n",
    "\n",
    "#выводим результаты теста на нормальность распределения\n",
    "\n",
    "stat, p_value = st.normaltest(group_a['rev'])\n",
    "\n",
    "\n",
    "if p_value < 0.05:\n",
    "    print(f\"p-value = {p_value}, распределение НЕ является нормальным\")\n",
    "else:\n",
    "    print(f\"p-value = {p_value}, распределение является нормальным\")"
   ]
  },
  {
   "cell_type": "code",
   "execution_count": 85,
   "metadata": {},
   "outputs": [
    {
     "data": {
      "text/html": [
       "<div>\n",
       "<style scoped>\n",
       "    .dataframe tbody tr th:only-of-type {\n",
       "        vertical-align: middle;\n",
       "    }\n",
       "\n",
       "    .dataframe tbody tr th {\n",
       "        vertical-align: top;\n",
       "    }\n",
       "\n",
       "    .dataframe thead th {\n",
       "        text-align: right;\n",
       "    }\n",
       "</style>\n",
       "<table border=\"1\" class=\"dataframe\">\n",
       "  <thead>\n",
       "    <tr style=\"text-align: right;\">\n",
       "      <th></th>\n",
       "      <th>rev</th>\n",
       "      <th>student_id</th>\n",
       "    </tr>\n",
       "  </thead>\n",
       "  <tbody>\n",
       "    <tr>\n",
       "      <th>1</th>\n",
       "      <td>290.0</td>\n",
       "      <td>31</td>\n",
       "    </tr>\n",
       "    <tr>\n",
       "      <th>6</th>\n",
       "      <td>690.0</td>\n",
       "      <td>19</td>\n",
       "    </tr>\n",
       "    <tr>\n",
       "      <th>0</th>\n",
       "      <td>199.0</td>\n",
       "      <td>7</td>\n",
       "    </tr>\n",
       "    <tr>\n",
       "      <th>9</th>\n",
       "      <td>990.0</td>\n",
       "      <td>6</td>\n",
       "    </tr>\n",
       "    <tr>\n",
       "      <th>4</th>\n",
       "      <td>580.0</td>\n",
       "      <td>6</td>\n",
       "    </tr>\n",
       "  </tbody>\n",
       "</table>\n",
       "</div>"
      ],
      "text/plain": [
       "     rev  student_id\n",
       "1  290.0          31\n",
       "6  690.0          19\n",
       "0  199.0           7\n",
       "9  990.0           6\n",
       "4  580.0           6"
      ]
     },
     "execution_count": 85,
     "metadata": {},
     "output_type": "execute_result"
    }
   ],
   "source": [
    "# Группа A: топ оплат\n",
    "\n",
    "group_a.groupby('rev', as_index=False).agg({'student_id':'count'}).rename({'student_id':'payments'}).sort_values('student_id', ascending=False).head(5)"
   ]
  },
  {
   "cell_type": "code",
   "execution_count": 86,
   "metadata": {},
   "outputs": [
    {
     "data": {
      "image/png": "[encoded data removed]",
      "text/plain": [
       "<Figure size 432x288 with 1 Axes>"
      ]
     },
     "metadata": {
      "needs_background": "light"
     },
     "output_type": "display_data"
    },
    {
     "name": "stdout",
     "output_type": "stream",
     "text": [
      "p-value = 6.18881394639434e-08, распределение НЕ является нормальным\n"
     ]
    }
   ],
   "source": [
    "#строим график распределения для экспериментальной группы \n",
    "sns.histplot(group_b['rev'])\n",
    "\n",
    "# Оформление графика\n",
    "\n",
    "plt.title(\"Распределение выручки (rev) для экспериментальной группы\")\n",
    "plt.xlabel(\"Выручка (rev)\")\n",
    "plt.ylabel(\"Частота\")\n",
    "plt.show()\n",
    "\n",
    "\n",
    "# выводим результаты теста на нормальность распределения\n",
    "\n",
    "stat, p_value = st.normaltest(group_b['rev'])\n",
    "\n",
    "\n",
    "if p_value < 0.05:\n",
    "    print(f\"p-value = {p_value}, распределение НЕ является нормальным\")\n",
    "else:\n",
    "    print(f\"p-value = {p_value}, распределение является нормальным\")"
   ]
  },
  {
   "cell_type": "code",
   "execution_count": 87,
   "metadata": {},
   "outputs": [
    {
     "data": {
      "text/html": [
       "<div>\n",
       "<style scoped>\n",
       "    .dataframe tbody tr th:only-of-type {\n",
       "        vertical-align: middle;\n",
       "    }\n",
       "\n",
       "    .dataframe tbody tr th {\n",
       "        vertical-align: top;\n",
       "    }\n",
       "\n",
       "    .dataframe thead th {\n",
       "        text-align: right;\n",
       "    }\n",
       "</style>\n",
       "<table border=\"1\" class=\"dataframe\">\n",
       "  <thead>\n",
       "    <tr style=\"text-align: right;\">\n",
       "      <th></th>\n",
       "      <th>rev</th>\n",
       "      <th>student_id</th>\n",
       "    </tr>\n",
       "  </thead>\n",
       "  <tbody>\n",
       "    <tr>\n",
       "      <th>22</th>\n",
       "      <td>1900.0000</td>\n",
       "      <td>97</td>\n",
       "    </tr>\n",
       "    <tr>\n",
       "      <th>1</th>\n",
       "      <td>290.0000</td>\n",
       "      <td>63</td>\n",
       "    </tr>\n",
       "    <tr>\n",
       "      <th>8</th>\n",
       "      <td>690.0000</td>\n",
       "      <td>59</td>\n",
       "    </tr>\n",
       "    <tr>\n",
       "      <th>0</th>\n",
       "      <td>199.0000</td>\n",
       "      <td>39</td>\n",
       "    </tr>\n",
       "    <tr>\n",
       "      <th>23</th>\n",
       "      <td>1900.0001</td>\n",
       "      <td>36</td>\n",
       "    </tr>\n",
       "  </tbody>\n",
       "</table>\n",
       "</div>"
      ],
      "text/plain": [
       "          rev  student_id\n",
       "22  1900.0000          97\n",
       "1    290.0000          63\n",
       "8    690.0000          59\n",
       "0    199.0000          39\n",
       "23  1900.0001          36"
      ]
     },
     "execution_count": 87,
     "metadata": {},
     "output_type": "execute_result"
    }
   ],
   "source": [
    "# Группа В: топ оплат\n",
    "\n",
    "group_b.groupby('rev', as_index=False).agg({'student_id':'count'}).rename({'student_id':'payments'}).sort_values('student_id', ascending=False).head(5)"
   ]
  },
  {
   "cell_type": "markdown",
   "metadata": {},
   "source": [
    "#### Проверим дисперсии в группах"
   ]
  },
  {
   "cell_type": "code",
   "execution_count": 88,
   "metadata": {},
   "outputs": [
    {
     "name": "stdout",
     "output_type": "stream",
     "text": [
      "Levene test stat = 4.4789, p = 0.0348\n",
      " Дисперсии значимо различаются\n"
     ]
    }
   ],
   "source": [
    "stat, p_value = st.levene(group_a['rev'], group_b['rev'])\n",
    "\n",
    "print(f\"Levene test stat = {stat:.4f}, p = {p_value:.4f}\")\n",
    "\n",
    "if p_value < 0.05:\n",
    "    print(\" Дисперсии значимо различаются\")\n",
    "else:\n",
    "    print(\" Дисперсии примерно равны\")"
   ]
  },
  {
   "cell_type": "markdown",
   "metadata": {},
   "source": [
    "#### Используем тест Колмогорова - Смирнова для сравнения двух групп"
   ]
  },
  {
   "cell_type": "code",
   "execution_count": 98,
   "metadata": {},
   "outputs": [
    {
     "name": "stdout",
     "output_type": "stream",
     "text": [
      "U-статистика: 0.24432576769025366\n",
      "P-значение: 0.00005 \n",
      "Распределения в группах разные — то есть отличаются по форме и положению\n"
     ]
    }
   ],
   "source": [
    "#проверяем, являются ли различия статистически значимыми\n",
    "\n",
    "from scipy.stats import ks_2samp\n",
    "\n",
    "stat, p_value = ks_2samp(group_a['rev'], group_b['rev'])\n",
    "\n",
    "print(f\"U-статистика: {stat}\")\n",
    "print(f\"P-значение: {p_value:.5f} \")\n",
    "\n",
    "if p_value < 0.05:\n",
    "    print(\"Распределения в группах разные — то есть отличаются по форме и положению\")\n",
    "else:\n",
    "    print(\"Распределения в группах одинаковы — то есть совпадают по форме и положению\")\n"
   ]
  },
  {
   "cell_type": "markdown",
   "metadata": {},
   "source": [
    "#### Так как дисперсии различаются, распределение ненормальное НО выборка достаточно большая, то для проверки статзначимости различий используем T-тест Уэлча."
   ]
  },
  {
   "cell_type": "code",
   "execution_count": 96,
   "metadata": {},
   "outputs": [
    {
     "name": "stdout",
     "output_type": "stream",
     "text": [
      "Welch's t-статистика: -2.8670\n",
      "P-значение: 0.0047\n",
      "Различия статистически значимы\n"
     ]
    }
   ],
   "source": [
    "from scipy.stats import ttest_ind\n",
    "\n",
    "t_stat, p_val = ttest_ind(group_a['rev'], group_b['rev'], equal_var=False)\n",
    "\n",
    "print(f\"Welch's t-статистика: {t_stat:.4f}\")\n",
    "print(f\"P-значение: {p_val:.4f}\")\n",
    "\n",
    "\n",
    "\n",
    "if p_val < 0.05:\n",
    "    print(\"Различия статистически значимы\")\n",
    "else:\n",
    "    print(\"Нет статистически значимых различий\")"
   ]
  },
  {
   "cell_type": "code",
   "execution_count": 90,
   "metadata": {},
   "outputs": [
    {
     "data": {
      "image/png": "[encoded data removed]",
      "text/plain": [
       "<Figure size 432x288 with 1 Axes>"
      ]
     },
     "metadata": {
      "needs_background": "light"
     },
     "output_type": "display_data"
    }
   ],
   "source": [
    "#строим общий график распределения \n",
    "\n",
    "sns.histplot(group_paid, hue='grp', x='rev', bins=20)\n",
    "\n",
    "# Оформление графика\n",
    "plt.title(\"Распределение выручки (rev) для групп А(контрольная) и В (экспериментальная)\")\n",
    "plt.xlabel(\"Выручка (rev)\")\n",
    "plt.ylabel(\"Частота\")\n",
    "plt.show()"
   ]
  },
  {
   "cell_type": "code",
   "execution_count": 92,
   "metadata": {},
   "outputs": [
    {
     "name": "stdout",
     "output_type": "stream",
     "text": [
      "Нововведение позволило увеличить ARPPU на 34.74%\n"
     ]
    }
   ],
   "source": [
    "difference=round(((exp_result.query('grp==\"B\"')['ARPPU'].values[0]-exp_result.query('grp==\"A\"')['ARPPU']).values[0]/exp_result.query('grp==\"A\"')['ARPPU'].values[0])*100, 2)\n",
    "\n",
    "if p_value < 0.05 and exp_result.query('grp==\"A\"')['ARPPU'].values[0] < exp_result.query('grp==\"B\"')['ARPPU'].values[0]:\n",
    "    print( f\"Нововведение позволило увеличить ARPPU на {difference}%\")\n",
    "    \n",
    "elif p_value < 0.05 and exp_result.query('grp==\"A\"')['ARPPU'].values[0] > exp_result.query('grp==\"B\"')['ARPPU'].values[0]:\n",
    "    print( f\"Нововведение способствовало снижению ARPPU на {difference}%\")\n",
    "    \n",
    "else:\n",
    "    print(\"Нововведение не повлияло на ARPU\")"
   ]
  },
  {
   "cell_type": "markdown",
   "metadata": {},
   "source": [
    "## Выводы и рекомендации"
   ]
  },
  {
   "cell_type": "markdown",
   "metadata": {},
   "source": [
    "Мы провели А/В-тест новой механики оплаты на сайте и проанализировали изменения в доле платящих пользователей и ARPPU.\n",
    "\n",
    "Нововведение не повлияла на долю платящих пользователей.\n",
    "Однако мы видим существенное увеличение выручки с платящих пользователей - ARPPU выросла на 34.74%. \n",
    "Рост произошел за счет прироста покупки услуги стоимостью 1900: в экспериментальной группе она вырывается в топ трат.\n",
    "\n",
    "Рекомендуем запустить новую механику оплаты на всех пользователей. "
   ]
  },
  {
   "cell_type": "markdown",
   "metadata": {},
   "source": [
    "##### Судя по результатам могу предположить, что введена механика оплаты вроде кредита или сплита (так как произошел всплеск покупок предположительно одной высокостоящей услуги). В таком случае можно дополнительно отметить, что данную механику можно использовать не для всех услуг в приложении, но для более дорогостоящих (меньше рисков и издержек для компании)."
   ]
  },
  {
   "cell_type": "markdown",
   "metadata": {},
   "source": [
    "________"
   ]
  }
 ],
 "metadata": {
  "kernelspec": {
   "display_name": "Python 3",
   "language": "python",
   "name": "python3"
  },
  "language_info": {
   "codemirror_mode": {
    "name": "ipython",
    "version": 3
   },
   "file_extension": ".py",
   "mimetype": "text/x-python",
   "name": "python",
   "nbconvert_exporter": "python",
   "pygments_lexer": "ipython3",
   "version": "3.7.3"
  }
 },
 "nbformat": 4,
 "nbformat_minor": 4
}
